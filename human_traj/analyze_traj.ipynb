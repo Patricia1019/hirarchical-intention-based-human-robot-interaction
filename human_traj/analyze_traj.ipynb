{
 "cells": [
  {
   "cell_type": "code",
   "execution_count": null,
   "metadata": {},
   "outputs": [],
   "source": [
    "import matplotlib.pyplot as plt\n",
    "import numpy as np\n",
    "from pathlib import Path"
   ]
  },
  {
   "cell_type": "code",
   "execution_count": null,
   "metadata": {
    "scrolled": true
   },
   "outputs": [],
   "source": [
    "task = 'test_hand001'\n",
    "ROOT_DIR = f'./{task[:-3]}'\n",
    "body_traj = np.load(f'{ROOT_DIR}/{task}.npy')\n",
    "\n",
    "ax1 = plt.subplot(311)\n",
    "plt.plot(body_traj[:,16,0])\n",
    "\n",
    "ax2 = plt.subplot(312, sharey=ax1)\n",
    "plt.plot(body_traj[:,16,1])\n",
    "\n",
    "ax3 = plt.subplot(313, sharey=ax1)\n",
    "plt.plot(body_traj[:,16,2])\n",
    "plt.show()\n"
   ]
  },
  {
   "cell_type": "code",
   "execution_count": null,
   "metadata": {},
   "outputs": [],
   "source": [
    "task = 'test_hand002'\n",
    "ROOT_DIR = f'./{task[:-3]}'\n",
    "body_traj = np.load(f'{ROOT_DIR}/{task}.npy')\n",
    "\n",
    "ax1 = plt.subplot(311)\n",
    "plt.plot(body_traj[:,16,0])\n",
    "\n",
    "ax2 = plt.subplot(312, sharey=ax1)\n",
    "plt.plot(body_traj[:,16,1])\n",
    "\n",
    "ax3 = plt.subplot(313, sharey=ax1)\n",
    "plt.plot(body_traj[:,16,2])\n",
    "plt.show()"
   ]
  },
  {
   "cell_type": "code",
   "execution_count": null,
   "metadata": {},
   "outputs": [],
   "source": []
  },
  {
   "cell_type": "code",
   "execution_count": null,
   "metadata": {},
   "outputs": [],
   "source": [
    "task = 'test_hand003'\n",
    "ROOT_DIR = f'./{task[:-3]}'\n",
    "body_traj = np.load(f'{ROOT_DIR}/{task}.npy')\n",
    "\n",
    "ax1 = plt.subplot(311)\n",
    "plt.plot(body_traj[:,16,0])\n",
    "\n",
    "ax2 = plt.subplot(312, sharey=ax1)\n",
    "plt.plot(body_traj[:,16,1])\n",
    "\n",
    "ax3 = plt.subplot(313, sharey=ax1)\n",
    "plt.plot(body_traj[:,16,2])\n",
    "plt.show()"
   ]
  },
  {
   "cell_type": "code",
   "execution_count": null,
   "metadata": {},
   "outputs": [],
   "source": [
    "task = 'hand_reach_out001'\n",
    "ROOT_DIR = f'./{task[:-3]}'\n",
    "body_traj = np.load(f'{ROOT_DIR}/{task}.npy')\n",
    "\n",
    "# ax1 = plt.subplot(311)\n",
    "plt.plot(body_traj[:,16,0])\n",
    "plt.show()\n",
    "\n",
    "# ax2 = plt.subplot(312, sharey=ax1)\n",
    "plt.plot(body_traj[:,16,1])\n",
    "plt.show()\n",
    "\n",
    "# ax3 = plt.subplot(313, sharey=ax1)\n",
    "plt.plot(body_traj[:,16,2])\n",
    "plt.show()"
   ]
  },
  {
   "cell_type": "code",
   "execution_count": null,
   "metadata": {},
   "outputs": [],
   "source": [
    "task = 'test_hand004'\n",
    "ROOT_DIR = f'./{task[:-3]}'\n",
    "body_traj = np.load(f'{ROOT_DIR}/{task}.npy')\n",
    "\n",
    "ax1 = plt.subplot(311)\n",
    "plt.plot(body_traj[:,16,0])\n",
    "# plt.show()\n",
    "\n",
    "ax2 = plt.subplot(312, sharey=ax1)\n",
    "plt.plot(body_traj[:,16,1])\n",
    "# plt.show()\n",
    "\n",
    "ax3 = plt.subplot(313, sharey=ax1)\n",
    "plt.plot(body_traj[:,16,2])\n",
    "plt.show()"
   ]
  },
  {
   "cell_type": "code",
   "execution_count": null,
   "metadata": {},
   "outputs": [],
   "source": [
    "task = 'test_hand006'\n",
    "ROOT_DIR = f'./{task[:-3]}'\n",
    "body_traj = np.load(f'{ROOT_DIR}/{task}.npy')\n",
    "\n",
    "ax1 = plt.subplot(311)\n",
    "plt.plot(body_traj[:,16,0])\n",
    "\n",
    "ax2 = plt.subplot(312, sharey=ax1)\n",
    "plt.plot(body_traj[:,16,1])\n",
    "\n",
    "ax3 = plt.subplot(313, sharey=ax1)\n",
    "plt.plot(body_traj[:,16,2])\n",
    "plt.show()"
   ]
  },
  {
   "cell_type": "code",
   "execution_count": null,
   "metadata": {},
   "outputs": [],
   "source": [
    "task = 'test_hand007'\n",
    "ROOT_DIR = f'./{task[:-3]}'\n",
    "body_traj = np.load(f'{ROOT_DIR}/{task}.npy')\n",
    "\n",
    "ax1 = plt.subplot(311)\n",
    "plt.plot(body_traj[:,16,0])\n",
    "\n",
    "ax2 = plt.subplot(312, sharey=ax1)\n",
    "plt.plot(body_traj[:,16,1])\n",
    "\n",
    "ax3 = plt.subplot(313, sharey=ax1)\n",
    "plt.plot(body_traj[:,16,2])\n",
    "plt.show()"
   ]
  },
  {
   "cell_type": "code",
   "execution_count": null,
   "metadata": {},
   "outputs": [],
   "source": []
  }
 ],
 "metadata": {
  "kernelspec": {
   "display_name": "Python 3 (ipykernel)",
   "language": "python",
   "name": "python3"
  },
  "language_info": {
   "codemirror_mode": {
    "name": "ipython",
    "version": 3
   },
   "file_extension": ".py",
   "mimetype": "text/x-python",
   "name": "python",
   "nbconvert_exporter": "python",
   "pygments_lexer": "ipython3",
   "version": "3.9.1"
  }
 },
 "nbformat": 4,
 "nbformat_minor": 4
}
